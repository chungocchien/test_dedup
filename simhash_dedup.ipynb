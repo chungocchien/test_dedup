{
 "cells": [
  {
   "cell_type": "code",
   "execution_count": 1,
   "metadata": {},
   "outputs": [],
   "source": [
    "from simhash import Simhash\n",
    "from collections import defaultdict\n",
    "\n",
    "# Hàm tính SimHash cho văn bản\n",
    "def get_simhash(text):\n",
    "    return Simhash(str(text), f=128).value\n",
    "\n",
    "# Hàm tính khoảng cách Hamming giữa hai SimHash\n",
    "def hamming_distance(hash1, hash2):\n",
    "    x = hash1 ^ hash2\n",
    "    dist = bin(x).count('1')\n",
    "    return dist\n",
    "\n",
    "# Áp dụng LSH để nhóm các SimHash tương tự lại với nhau và giữ lại 1 văn bản đại diện cho mỗi nhóm\n",
    "def lsh_grouping(texts, threshold, num_bands):\n",
    "    simhashes = [(i, get_simhash(text)) for i, text in enumerate(texts)]\n",
    "    buckets = defaultdict(list)\n",
    "\n",
    "    # Chia SimHash thành các bands\n",
    "    for idx, simhash in simhashes:\n",
    "        hash_str = f'{simhash:128b}'  # Chuyển SimHash thành chuỗi nhị phân 128 bit\n",
    "        band_size = len(hash_str) // num_bands\n",
    "        for band in range(num_bands):\n",
    "            band_hash = hash_str[band * band_size:(band + 1) * band_size]\n",
    "            buckets[(band, band_hash)].append(idx)\n",
    "\n",
    "    # Sử dụng DFS để gom các nhóm dữ liệu có Hamming distance <= threshold\n",
    "    visited = set()\n",
    "    unique_groups = []\n",
    "\n",
    "    def dfs(index, group):\n",
    "        visited.add(index)\n",
    "        group.append(index)\n",
    "        for neighbor in neighbors[index]:\n",
    "            if neighbor not in visited:\n",
    "                dfs(neighbor, group)\n",
    "\n",
    "    # Xây dựng danh sách các hàng xóm dựa trên khoảng cách Hamming\n",
    "    neighbors = defaultdict(list)\n",
    "    for bucket, indices in buckets.items():\n",
    "        for i in range(len(indices)):\n",
    "            for j in range(i + 1, len(indices)):\n",
    "                idx1, idx2 = indices[i], indices[j]\n",
    "                hash1, hash2 = simhashes[idx1][1], simhashes[idx2][1]\n",
    "                if hamming_distance(hash1, hash2) <= threshold:\n",
    "                    neighbors[idx1].append(idx2)\n",
    "                    neighbors[idx2].append(idx1)\n",
    "\n",
    "    # Gom các nhóm dựa trên DFS và chỉ giữ lại 1 đại diện cho mỗi nhóm\n",
    "    output_group = []\n",
    "    for idx in range(len(texts)):\n",
    "        if idx not in visited:\n",
    "            group = []\n",
    "            dfs(idx, group)\n",
    "            unique_groups.append(group[0])  # Giữ lại chỉ một đại diện trong mỗi nhóm\n",
    "\n",
    "    # Trả về các văn bản không bị trùng lặp\n",
    "    return [texts[i] for i in unique_groups]\n"
   ]
  },
  {
   "cell_type": "code",
   "execution_count": 2,
   "metadata": {},
   "outputs": [],
   "source": [
    "import re\n",
    "\n",
    "# Hàm loại bỏ mã code\n",
    "def remove_codes(text):\n",
    "    # Mẫu regex để tìm các chuỗi mã có chữ cái và số (ít nhất 5 ký tự)\n",
    "    pattern = r'\\b\\w{5,}\\b'\n",
    "    \n",
    "    # Loại bỏ các chuỗi mã code\n",
    "    cleaned_text = re.sub(pattern, '', text)\n",
    "    \n",
    "    # Loại bỏ các khoảng trắng dư thừa\n",
    "    cleaned_text = re.sub(r'\\s+', ' ', cleaned_text).strip()\n",
    "    \n",
    "    return cleaned_text\n",
    "\n",
    "def remove_duplicates(array):\n",
    "    seen = set()  # Tạo một set để lưu các chuỗi đã gặp\n",
    "    unique_array = []\n",
    "    \n",
    "    for i in range(len(array)):\n",
    "        if array[i] not in seen:\n",
    "            unique_array.append(i)\n",
    "            seen.add(array[i])\n",
    "    \n",
    "    return unique_array"
   ]
  },
  {
   "cell_type": "code",
   "execution_count": 3,
   "metadata": {},
   "outputs": [],
   "source": [
    "import pandas as pd\n",
    "\n",
    "texts = pd.read_csv('data_duplicate.csv')['text']\n",
    "new_texts = []\n",
    "for text in texts:\n",
    "    new_texts.append(remove_codes(str(text)))"
   ]
  },
  {
   "cell_type": "code",
   "execution_count": null,
   "metadata": {},
   "outputs": [
    {
     "name": "stdout",
     "output_type": "stream",
     "text": [
      "Thời gian chạy: 1.8745 giây\n"
     ]
    }
   ],
   "source": [
    "import time\n",
    "\n",
    "start_time = time.time()\n",
    "result = remove_duplicates(new_texts)\n",
    "unique_texts = [texts[i] for i in result]\n",
    "\n",
    "output_texts = lsh_grouping(texts=unique_texts, threshold=20, num_bands=16)\n",
    "# unique_texts = [texts[i] for i in indices]\n",
    "\n",
    "end_time = time.time()\n",
    "\n",
    "# Tính thời gian chạy\n",
    "execution_time = end_time - start_time\n",
    "print(f\"Thời gian chạy: {execution_time:.4f} giây\")"
   ]
  },
  {
   "cell_type": "code",
   "execution_count": 7,
   "metadata": {},
   "outputs": [
    {
     "data": {
      "text/plain": [
       "5383"
      ]
     },
     "execution_count": 7,
     "metadata": {},
     "output_type": "execute_result"
    }
   ],
   "source": [
    "len(unique_texts)"
   ]
  },
  {
   "cell_type": "code",
   "execution_count": 8,
   "metadata": {},
   "outputs": [
    {
     "data": {
      "text/plain": [
       "4717"
      ]
     },
     "execution_count": 8,
     "metadata": {},
     "output_type": "execute_result"
    }
   ],
   "source": [
    "len(output_texts)"
   ]
  },
  {
   "cell_type": "code",
   "execution_count": 9,
   "metadata": {},
   "outputs": [],
   "source": [
    "output = pd.DataFrame({'text':output_texts})\n",
    "output.to_csv('new_data_simhash.csv')"
   ]
  },
  {
   "cell_type": "code",
   "execution_count": null,
   "metadata": {},
   "outputs": [],
   "source": []
  }
 ],
 "metadata": {
  "kernelspec": {
   "display_name": ".venv",
   "language": "python",
   "name": "python3"
  },
  "language_info": {
   "codemirror_mode": {
    "name": "ipython",
    "version": 3
   },
   "file_extension": ".py",
   "mimetype": "text/x-python",
   "name": "python",
   "nbconvert_exporter": "python",
   "pygments_lexer": "ipython3",
   "version": "3.10.12"
  }
 },
 "nbformat": 4,
 "nbformat_minor": 2
}
